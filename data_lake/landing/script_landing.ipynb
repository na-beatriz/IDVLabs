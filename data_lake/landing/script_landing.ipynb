{
 "cells": [
  {
   "cell_type": "markdown",
   "id": "18f977c7",
   "metadata": {},
   "source": [
    "# Conexão com o bd"
   ]
  },
  {
   "cell_type": "code",
   "execution_count": 4,
   "id": "01cd3f4d",
   "metadata": {},
   "outputs": [
    {
     "data": {
      "text/plain": [
       "'pt_BR.UTF-8'"
      ]
     },
     "execution_count": 4,
     "metadata": {},
     "output_type": "execute_result"
    }
   ],
   "source": [
    "import mysql.connector\n",
    "import pandas as pd\n",
    "from datetime import datetime\n",
    "import locale\n",
    "locale.setlocale(locale.LC_TIME, 'pt_BR.UTF-8')\n",
    "#!pip install fastparquet\n",
    "#!pip install mysql\n",
    "#!pip install mysql-connector-python"
   ]
  },
  {
   "cell_type": "code",
   "execution_count": 5,
   "id": "6a8bd209",
   "metadata": {},
   "outputs": [
    {
     "ename": "InterfaceError",
     "evalue": "2013: Lost connection to MySQL server during query",
     "output_type": "error",
     "traceback": [
      "\u001b[31m---------------------------------------------------------------------------\u001b[39m",
      "\u001b[31mInterfaceError\u001b[39m                            Traceback (most recent call last)",
      "\u001b[36mCell\u001b[39m\u001b[36m \u001b[39m\u001b[32mIn[5]\u001b[39m\u001b[32m, line 1\u001b[39m\n\u001b[32m----> \u001b[39m\u001b[32m1\u001b[39m conexao = \u001b[43mmysql\u001b[49m\u001b[43m.\u001b[49m\u001b[43mconnector\u001b[49m\u001b[43m.\u001b[49m\u001b[43mconnect\u001b[49m\u001b[43m \u001b[49m\u001b[43m(\u001b[49m\n\u001b[32m      2\u001b[39m \u001b[43m    \u001b[49m\u001b[43mhost\u001b[49m\u001b[43m \u001b[49m\u001b[43m=\u001b[49m\u001b[43m \u001b[49m\u001b[33;43m'\u001b[39;49m\u001b[33;43mlocalhost\u001b[39;49m\u001b[33;43m'\u001b[39;49m\u001b[43m,\u001b[49m\n\u001b[32m      3\u001b[39m \u001b[43m    \u001b[49m\u001b[43muser\u001b[49m\u001b[43m \u001b[49m\u001b[43m=\u001b[49m\u001b[43m \u001b[49m\u001b[33;43m'\u001b[39;49m\u001b[33;43mroot\u001b[39;49m\u001b[33;43m'\u001b[39;49m\u001b[43m,\u001b[49m\n\u001b[32m      4\u001b[39m \u001b[43m    \u001b[49m\u001b[43mpassword\u001b[49m\u001b[43m \u001b[49m\u001b[43m=\u001b[49m\u001b[43m \u001b[49m\u001b[33;43m'\u001b[39;49m\u001b[33;43mDoctorwho13#\u001b[39;49m\u001b[33;43m'\u001b[39;49m\u001b[43m,\u001b[49m\n\u001b[32m      5\u001b[39m \u001b[43m    \u001b[49m\u001b[43mdatabase\u001b[49m\u001b[43m \u001b[49m\u001b[43m=\u001b[49m\u001b[43m \u001b[49m\u001b[33;43m'\u001b[39;49m\u001b[33;43midv_store\u001b[39;49m\u001b[33;43m'\u001b[39;49m\n\u001b[32m      6\u001b[39m \u001b[43m)\u001b[49m\n\u001b[32m      8\u001b[39m \u001b[38;5;28;01mif\u001b[39;00m conexao.is_connected():\n\u001b[32m      9\u001b[39m     \u001b[38;5;28mprint\u001b[39m(\u001b[33m'\u001b[39m\u001b[33mConexão estabelecida com sucesso.\u001b[39m\u001b[33m'\u001b[39m)\n",
      "\u001b[36mFile \u001b[39m\u001b[32m~\\AppData\\Local\\Packages\\PythonSoftwareFoundation.Python.3.11_qbz5n2kfra8p0\\LocalCache\\local-packages\\Python311\\site-packages\\mysql\\connector\\pooling.py:323\u001b[39m, in \u001b[36mconnect\u001b[39m\u001b[34m(*args, **kwargs)\u001b[39m\n\u001b[32m    321\u001b[39m \u001b[38;5;28;01mif\u001b[39;00m CMySQLConnection \u001b[38;5;129;01mand\u001b[39;00m \u001b[38;5;129;01mnot\u001b[39;00m use_pure:\n\u001b[32m    322\u001b[39m     \u001b[38;5;28;01mreturn\u001b[39;00m CMySQLConnection(*args, **kwargs)\n\u001b[32m--> \u001b[39m\u001b[32m323\u001b[39m \u001b[38;5;28;01mreturn\u001b[39;00m \u001b[43mMySQLConnection\u001b[49m\u001b[43m(\u001b[49m\u001b[43m*\u001b[49m\u001b[43margs\u001b[49m\u001b[43m,\u001b[49m\u001b[43m \u001b[49m\u001b[43m*\u001b[49m\u001b[43m*\u001b[49m\u001b[43mkwargs\u001b[49m\u001b[43m)\u001b[49m\n",
      "\u001b[36mFile \u001b[39m\u001b[32m~\\AppData\\Local\\Packages\\PythonSoftwareFoundation.Python.3.11_qbz5n2kfra8p0\\LocalCache\\local-packages\\Python311\\site-packages\\mysql\\connector\\connection.py:185\u001b[39m, in \u001b[36mMySQLConnection.__init__\u001b[39m\u001b[34m(self, **kwargs)\u001b[39m\n\u001b[32m    183\u001b[39m \u001b[38;5;28;01mif\u001b[39;00m kwargs:\n\u001b[32m    184\u001b[39m     \u001b[38;5;28;01mtry\u001b[39;00m:\n\u001b[32m--> \u001b[39m\u001b[32m185\u001b[39m         \u001b[38;5;28;43mself\u001b[39;49m\u001b[43m.\u001b[49m\u001b[43mconnect\u001b[49m\u001b[43m(\u001b[49m\u001b[43m*\u001b[49m\u001b[43m*\u001b[49m\u001b[43mkwargs\u001b[49m\u001b[43m)\u001b[49m\n\u001b[32m    186\u001b[39m     \u001b[38;5;28;01mexcept\u001b[39;00m \u001b[38;5;167;01mException\u001b[39;00m:\n\u001b[32m    187\u001b[39m         \u001b[38;5;66;03m# Tidy-up underlying socket on failure\u001b[39;00m\n\u001b[32m    188\u001b[39m         \u001b[38;5;28mself\u001b[39m.close()\n",
      "\u001b[36mFile \u001b[39m\u001b[32m~\\AppData\\Local\\Packages\\PythonSoftwareFoundation.Python.3.11_qbz5n2kfra8p0\\LocalCache\\local-packages\\Python311\\site-packages\\mysql\\connector\\abstracts.py:1604\u001b[39m, in \u001b[36mMySQLConnectionAbstract.connect\u001b[39m\u001b[34m(self, **kwargs)\u001b[39m\n\u001b[32m   1601\u001b[39m     \u001b[38;5;28mself\u001b[39m.config(**kwargs)\n\u001b[32m   1603\u001b[39m \u001b[38;5;28mself\u001b[39m.disconnect()\n\u001b[32m-> \u001b[39m\u001b[32m1604\u001b[39m \u001b[38;5;28;43mself\u001b[39;49m\u001b[43m.\u001b[49m\u001b[43m_open_connection\u001b[49m\u001b[43m(\u001b[49m\u001b[43m)\u001b[49m\n\u001b[32m   1606\u001b[39m charset, collation = (\n\u001b[32m   1607\u001b[39m     kwargs.pop(\u001b[33m\"\u001b[39m\u001b[33mcharset\u001b[39m\u001b[33m\"\u001b[39m, \u001b[38;5;28;01mNone\u001b[39;00m),\n\u001b[32m   1608\u001b[39m     kwargs.pop(\u001b[33m\"\u001b[39m\u001b[33mcollation\u001b[39m\u001b[33m\"\u001b[39m, \u001b[38;5;28;01mNone\u001b[39;00m),\n\u001b[32m   1609\u001b[39m )\n\u001b[32m   1610\u001b[39m \u001b[38;5;28;01mif\u001b[39;00m charset \u001b[38;5;129;01mor\u001b[39;00m collation:\n",
      "\u001b[36mFile \u001b[39m\u001b[32m~\\AppData\\Local\\Packages\\PythonSoftwareFoundation.Python.3.11_qbz5n2kfra8p0\\LocalCache\\local-packages\\Python311\\site-packages\\mysql\\connector\\connection.py:411\u001b[39m, in \u001b[36mMySQLConnection._open_connection\u001b[39m\u001b[34m(self)\u001b[39m\n\u001b[32m    406\u001b[39m     \u001b[38;5;28;01mif\u001b[39;00m \u001b[38;5;28misinstance\u001b[39m(err, (ReadTimeoutError, WriteTimeoutError)):\n\u001b[32m    407\u001b[39m         \u001b[38;5;28;01mraise\u001b[39;00m ConnectionTimeoutError(\n\u001b[32m    408\u001b[39m             errno=err.errno,\n\u001b[32m    409\u001b[39m             msg=err.msg,\n\u001b[32m    410\u001b[39m         ) \u001b[38;5;28;01mfrom\u001b[39;00m\u001b[38;5;250m \u001b[39m\u001b[34;01merr\u001b[39;00m\n\u001b[32m--> \u001b[39m\u001b[32m411\u001b[39m     \u001b[38;5;28;01mraise\u001b[39;00m err\n\u001b[32m    412\u001b[39m \u001b[38;5;28;01mfinally\u001b[39;00m:\n\u001b[32m    413\u001b[39m     \u001b[38;5;66;03m# as the connection is established, set back the read\u001b[39;00m\n\u001b[32m    414\u001b[39m     \u001b[38;5;66;03m# and write timeouts to the original value\u001b[39;00m\n\u001b[32m    415\u001b[39m     \u001b[38;5;28mself\u001b[39m.read_timeout = stored_read_timeout\n",
      "\u001b[36mFile \u001b[39m\u001b[32m~\\AppData\\Local\\Packages\\PythonSoftwareFoundation.Python.3.11_qbz5n2kfra8p0\\LocalCache\\local-packages\\Python311\\site-packages\\mysql\\connector\\connection.py:385\u001b[39m, in \u001b[36mMySQLConnection._open_connection\u001b[39m\u001b[34m(self)\u001b[39m\n\u001b[32m    382\u001b[39m \u001b[38;5;28mself\u001b[39m._socket.open_connection()\n\u001b[32m    384\u001b[39m \u001b[38;5;66;03m# do initial handshake\u001b[39;00m\n\u001b[32m--> \u001b[39m\u001b[32m385\u001b[39m \u001b[38;5;28;43mself\u001b[39;49m\u001b[43m.\u001b[49m\u001b[43m_do_handshake\u001b[49m\u001b[43m(\u001b[49m\u001b[43m)\u001b[49m\n\u001b[32m    387\u001b[39m \u001b[38;5;66;03m# start authentication negotiation\u001b[39;00m\n\u001b[32m    388\u001b[39m \u001b[38;5;28mself\u001b[39m._do_auth(\n\u001b[32m    389\u001b[39m     \u001b[38;5;28mself\u001b[39m._user,\n\u001b[32m    390\u001b[39m     \u001b[38;5;28mself\u001b[39m._password,\n\u001b[32m   (...)\u001b[39m\u001b[32m    394\u001b[39m     \u001b[38;5;28mself\u001b[39m._conn_attrs,\n\u001b[32m    395\u001b[39m )\n",
      "\u001b[36mFile \u001b[39m\u001b[32m~\\AppData\\Local\\Packages\\PythonSoftwareFoundation.Python.3.11_qbz5n2kfra8p0\\LocalCache\\local-packages\\Python311\\site-packages\\mysql\\connector\\connection.py:214\u001b[39m, in \u001b[36mMySQLConnection._do_handshake\u001b[39m\u001b[34m(self)\u001b[39m\n\u001b[32m    212\u001b[39m \u001b[38;5;28;01mdef\u001b[39;00m\u001b[38;5;250m \u001b[39m\u001b[34m_do_handshake\u001b[39m(\u001b[38;5;28mself\u001b[39m) -> \u001b[38;5;28;01mNone\u001b[39;00m:\n\u001b[32m    213\u001b[39m \u001b[38;5;250m    \u001b[39m\u001b[33;03m\"\"\"Get the handshake from the MySQL server\"\"\"\u001b[39;00m\n\u001b[32m--> \u001b[39m\u001b[32m214\u001b[39m     packet = \u001b[38;5;28mbytes\u001b[39m(\u001b[38;5;28;43mself\u001b[39;49m\u001b[43m.\u001b[49m\u001b[43m_socket\u001b[49m\u001b[43m.\u001b[49m\u001b[43mrecv\u001b[49m\u001b[43m(\u001b[49m\u001b[43m)\u001b[49m)\n\u001b[32m    215\u001b[39m     \u001b[38;5;28;01mif\u001b[39;00m packet[\u001b[32m4\u001b[39m] == ERR_STATUS:\n\u001b[32m    216\u001b[39m         \u001b[38;5;28;01mraise\u001b[39;00m get_exception(packet)\n",
      "\u001b[36mFile \u001b[39m\u001b[32m~\\AppData\\Local\\Packages\\PythonSoftwareFoundation.Python.3.11_qbz5n2kfra8p0\\LocalCache\\local-packages\\Python311\\site-packages\\mysql\\connector\\network.py:668\u001b[39m, in \u001b[36mMySQLSocket.recv\u001b[39m\u001b[34m(self, read_timeout)\u001b[39m\n\u001b[32m    665\u001b[39m \u001b[38;5;28;01mexcept\u001b[39;00m \u001b[38;5;167;01mOSError\u001b[39;00m \u001b[38;5;28;01mas\u001b[39;00m _:\n\u001b[32m    666\u001b[39m     \u001b[38;5;66;03m# Ignore the OSError as the socket might not be setup properly\u001b[39;00m\n\u001b[32m    667\u001b[39m     \u001b[38;5;28;01mpass\u001b[39;00m\n\u001b[32m--> \u001b[39m\u001b[32m668\u001b[39m \u001b[38;5;28;01mreturn\u001b[39;00m \u001b[38;5;28;43mself\u001b[39;49m\u001b[43m.\u001b[49m\u001b[43m_netbroker\u001b[49m\u001b[43m.\u001b[49m\u001b[43mrecv\u001b[49m\u001b[43m(\u001b[49m\u001b[38;5;28;43mself\u001b[39;49m\u001b[43m.\u001b[49m\u001b[43msock\u001b[49m\u001b[43m,\u001b[49m\u001b[43m \u001b[49m\u001b[38;5;28;43mself\u001b[39;49m\u001b[43m.\u001b[49m\u001b[43maddress\u001b[49m\u001b[43m)\u001b[49m\n",
      "\u001b[36mFile \u001b[39m\u001b[32m~\\AppData\\Local\\Packages\\PythonSoftwareFoundation.Python.3.11_qbz5n2kfra8p0\\LocalCache\\local-packages\\Python311\\site-packages\\mysql\\connector\\network.py:244\u001b[39m, in \u001b[36mNetworkBrokerPlain.recv\u001b[39m\u001b[34m(self, sock, address)\u001b[39m\n\u001b[32m    238\u001b[39m     payload_len, \u001b[38;5;28mself\u001b[39m._pktnr = (\n\u001b[32m    239\u001b[39m         struct.unpack(\u001b[33m\"\u001b[39m\u001b[33m<I\u001b[39m\u001b[33m\"\u001b[39m, header[\u001b[32m0\u001b[39m:\u001b[32m3\u001b[39m] + \u001b[33mb\u001b[39m\u001b[33m\"\u001b[39m\u001b[38;5;130;01m\\x00\u001b[39;00m\u001b[33m\"\u001b[39m)[\u001b[32m0\u001b[39m],\n\u001b[32m    240\u001b[39m         header[\u001b[32m3\u001b[39m],\n\u001b[32m    241\u001b[39m     )\n\u001b[32m    243\u001b[39m     \u001b[38;5;66;03m# Read the payload, and return packet\u001b[39;00m\n\u001b[32m--> \u001b[39m\u001b[32m244\u001b[39m     \u001b[38;5;28;01mreturn\u001b[39;00m header + \u001b[38;5;28;43mself\u001b[39;49m\u001b[43m.\u001b[49m\u001b[43m_recv_chunk\u001b[49m\u001b[43m(\u001b[49m\u001b[43msock\u001b[49m\u001b[43m,\u001b[49m\u001b[43m \u001b[49m\u001b[43msize\u001b[49m\u001b[43m=\u001b[49m\u001b[43mpayload_len\u001b[49m\u001b[43m)\u001b[49m\n\u001b[32m    245\u001b[39m \u001b[38;5;28;01mexcept\u001b[39;00m (socket.timeout, \u001b[38;5;167;01mTimeoutError\u001b[39;00m) \u001b[38;5;28;01mas\u001b[39;00m err:\n\u001b[32m    246\u001b[39m     \u001b[38;5;28;01mraise\u001b[39;00m ReadTimeoutError(errno=\u001b[32m3024\u001b[39m, msg=err.strerror) \u001b[38;5;28;01mfrom\u001b[39;00m\u001b[38;5;250m \u001b[39m\u001b[34;01merr\u001b[39;00m\n",
      "\u001b[36mFile \u001b[39m\u001b[32m~\\AppData\\Local\\Packages\\PythonSoftwareFoundation.Python.3.11_qbz5n2kfra8p0\\LocalCache\\local-packages\\Python311\\site-packages\\mysql\\connector\\network.py:182\u001b[39m, in \u001b[36mNetworkBrokerPlain._recv_chunk\u001b[39m\u001b[34m(self, sock, size)\u001b[39m\n\u001b[32m    180\u001b[39m read = sock.recv_into(pkt_view, size)\n\u001b[32m    181\u001b[39m \u001b[38;5;28;01mif\u001b[39;00m read == \u001b[32m0\u001b[39m \u001b[38;5;129;01mand\u001b[39;00m size > \u001b[32m0\u001b[39m:\n\u001b[32m--> \u001b[39m\u001b[32m182\u001b[39m     \u001b[38;5;28;01mraise\u001b[39;00m InterfaceError(errno=\u001b[32m2013\u001b[39m)\n\u001b[32m    183\u001b[39m pkt_view = pkt_view[read:]\n\u001b[32m    184\u001b[39m size -= read\n",
      "\u001b[31mInterfaceError\u001b[39m: 2013: Lost connection to MySQL server during query"
     ]
    }
   ],
   "source": [
    "conexao = mysql.connector.connect (\n",
    "    host = 'localhost',\n",
    "    user = 'root',\n",
    "    password = 'Doctorwho13#',\n",
    "    database = 'idv_store'\n",
    ")\n",
    "\n",
    "if conexao.is_connected():\n",
    "    print('Conexão estabelecida com sucesso.')"
   ]
  },
  {
   "cell_type": "code",
   "execution_count": null,
   "id": "72d3f4ae",
   "metadata": {},
   "outputs": [
    {
     "name": "stdout",
     "output_type": "stream",
     "text": [
      "Processando tabela: categorias\n",
      "Processando tabela: clientes\n",
      "Processando tabela: enderecos\n",
      "Processando tabela: estoque\n",
      "Processando tabela: fornecedores\n",
      "Processando tabela: funcionarios\n",
      "Processando tabela: itens_pedido\n",
      "Processando tabela: pagamentos\n",
      "Processando tabela: pedidos\n",
      "Processando tabela: produtos\n"
     ]
    },
    {
     "data": {
      "text/plain": [
       "True"
      ]
     },
     "execution_count": 341,
     "metadata": {},
     "output_type": "execute_result"
    }
   ],
   "source": [
    "cursor = conexao.cursor()\n",
    "cursor.execute('SHOW TABLES')\n",
    "tabelas = cursor.fetchall()\n",
    "for tabela in tabelas:\n",
    "    table_name = tabela[0]\n",
    "    print(f\"Processando tabela: {table_name}\")\n",
    "\n",
    "    cursor = conexao.cursor()\n",
    "    cursor.execute(f'SELECT * FROM {table_name}')\n",
    "    resultado = cursor.fetchall()\n",
    "\n",
    "    column_names = [desc[0] for desc in cursor.description]\n",
    "\n",
    "    df = pd.DataFrame(resultado, columns=column_names)\n",
    "    df.to_csv(f'data_landing_csv/idv_store_{table_name}_bd.csv', index=False)\n",
    "    \n",
    "cursor.close()\n"
   ]
  },
  {
   "cell_type": "markdown",
   "id": "a227e1a8",
   "metadata": {},
   "source": [
    "# Lendo minhas tabelas - bd"
   ]
  },
  {
   "cell_type": "code",
   "execution_count": null,
   "id": "6d93b0f3",
   "metadata": {},
   "outputs": [],
   "source": [
    "df_categorias_l = pd.read_csv('../landing/data_landing_csv/idv_store_categorias_bd.csv')\n",
    "df_enderecos_l = pd.read_csv('../landing/data_landing_csv/idv_store_enderecos_bd.csv')\n",
    "df_estoque_l = pd.read_csv('../landing/data_landing_csv/idv_store_estoque_bd.csv')\n",
    "df_fornecedores_l = pd.read_csv('../landing/data_landing_csv/idv_store_fornecedores_bd.csv')\n",
    "df_funcionarios_l = pd.read_csv('../landing/data_landing_csv/idv_store_funcionarios_bd.csv')\n",
    "df_itens_pedidos_l = pd.read_csv('../landing/data_landing_csv/idv_store_itens_pedido_bd.csv')\n",
    "df_pagamentos_l = pd.read_csv('../landing/data_landing_csv/idv_store_pagamentos_bd.csv')\n",
    "df_pedidos_l = pd.read_csv('../landing/data_landing_csv/idv_store_pedidos_bd.csv')\n",
    "df_clientes_l = pd.read_csv('../landing/data_landing_csv/idv_store_clientes_bd.csv')\n",
    "df_produtos_l = pd.read_csv('../landing/data_landing_csv/idv_store_produtos_bd.csv')"
   ]
  },
  {
   "cell_type": "markdown",
   "id": "3fc49a30",
   "metadata": {},
   "source": [
    "# Lendo minhas tabelas - carga fria"
   ]
  },
  {
   "cell_type": "code",
   "execution_count": null,
   "id": "509da305",
   "metadata": {},
   "outputs": [],
   "source": [
    "df_clientes_cf = pd.read_csv('../../data_carga_fria/idv_store_clientes_cf.csv')\n",
    "df_produtos_cf = pd.read_csv('../../data_carga_fria/idv_store_produtos_cf.csv')"
   ]
  },
  {
   "cell_type": "markdown",
   "id": "77fe932c",
   "metadata": {},
   "source": [
    "# Salvando dataframes em .parquet"
   ]
  },
  {
   "cell_type": "code",
   "execution_count": null,
   "id": "2e454b9c",
   "metadata": {},
   "outputs": [],
   "source": [
    "#bases da carga fria\n",
    "df_clientes_cf.to_parquet('data_landing/idv_store_clientes_cf.parquet', index=False)\n",
    "df_produtos_cf.to_parquet('data_landing/idv_store_produtos_cf.parquet', index=False)\n",
    "\n",
    "#bases do bd\n",
    "df_categorias_l.to_parquet('../landing/data_landing/idv_store_categorias_bd.parquet', index=False)\n",
    "df_enderecos_l.to_parquet('../landing/data_landing/idv_store_enderecos_bd.parquet', index=False)\n",
    "df_estoque_l.to_parquet('../landing/data_landing/idv_store_estoque_bd.parquet', index=False)\n",
    "df_fornecedores_l.to_parquet('../landing/data_landing/idv_store_fornecedores_bd.parquet', index=False)\n",
    "df_funcionarios_l.to_parquet('../landing/data_landing/idv_store_funcionarios_bd.parquet', index=False)\n",
    "df_itens_pedidos_l.to_parquet('../landing/data_landing/idv_store_itens_pedidos_bd.parquet', index=False)\n",
    "df_pagamentos_l.to_parquet('../landing/data_landing/idv_store_pagamentos_bd.parquet', index=False)\n",
    "df_pedidos_l.to_parquet('../landing/data_landing/idv_store_pedidos_bd.parquet', index=False)\n",
    "df_clientes_l.to_parquet('../landing/data_landing/idv_store_clientes_bd.parquet', index=False)\n",
    "df_produtos_l.to_parquet('../landing/data_landing/idv_store_produtos_bd.parquet', index=False)"
   ]
  }
 ],
 "metadata": {
  "kernelspec": {
   "display_name": "Python 3",
   "language": "python",
   "name": "python3"
  },
  "language_info": {
   "codemirror_mode": {
    "name": "ipython",
    "version": 3
   },
   "file_extension": ".py",
   "mimetype": "text/x-python",
   "name": "python",
   "nbconvert_exporter": "python",
   "pygments_lexer": "ipython3",
   "version": "3.11.9"
  }
 },
 "nbformat": 4,
 "nbformat_minor": 5
}

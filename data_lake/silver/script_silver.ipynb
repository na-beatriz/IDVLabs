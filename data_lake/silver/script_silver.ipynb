{
 "cells": [
  {
   "cell_type": "code",
   "execution_count": 31,
   "id": "e1e939a3",
   "metadata": {},
   "outputs": [],
   "source": [
    "#!pip install validate-docbr\n",
    "import pandas as pd\n",
    "import re\n",
    "from validate_docbr import CPF, CNPJ\n",
    "import os\n",
    "import unicodedata"
   ]
  },
  {
   "cell_type": "markdown",
   "id": "b9e2fa4b",
   "metadata": {},
   "source": [
    "# Puxando tabelas  da camada bronze"
   ]
  },
  {
   "cell_type": "code",
   "execution_count": 32,
   "id": "7835c443",
   "metadata": {},
   "outputs": [],
   "source": [
    "df_categorias_b = pd.read_parquet('../bronze/data_bronze/idv_store_categorias_bd.parquet')\n",
    "df_clientes_b = pd.read_parquet('../bronze/data_bronze/idv_store_clientes_bd.parquet')\n",
    "df_enderecos_b = pd.read_parquet('../bronze/data_bronze/idv_store_enderecos_bd.parquet')\n",
    "df_estoque_b = pd.read_parquet('../bronze/data_bronze/idv_store_estoque_bd.parquet')\n",
    "df_fornecedores_b = pd.read_parquet('../bronze/data_bronze/idv_store_fornecedores_bd.parquet')\n",
    "df_funcionarios_b = pd.read_parquet('../bronze/data_bronze/idv_store_funcionarios_bd.parquet')\n",
    "df_itens_pedidos_b = pd.read_parquet('../bronze/data_bronze/idv_store_itens_pedidos_bd.parquet')\n",
    "df_pagamentos_b = pd.read_parquet('../bronze/data_bronze/idv_store_pagamentos_bd.parquet')\n",
    "df_pedidos_b = pd.read_parquet('../bronze/data_bronze/idv_store_pedidos_bd.parquet')\n",
    "df_produtos_b = pd.read_parquet('../bronze/data_bronze/idv_store_produtos_bd.parquet')"
   ]
  },
  {
   "cell_type": "markdown",
   "id": "40e461f6",
   "metadata": {},
   "source": [
    "# Informações Iniciais"
   ]
  },
  {
   "cell_type": "code",
   "execution_count": 33,
   "id": "04d7717e",
   "metadata": {},
   "outputs": [
    {
     "name": "stdout",
     "output_type": "stream",
     "text": [
      "<class 'pandas.core.frame.DataFrame'>\n",
      "RangeIndex: 5 entries, 0 to 4\n",
      "Data columns (total 3 columns):\n",
      " #   Column        Non-Null Count  Dtype \n",
      "---  ------        --------------  ----- \n",
      " 0   id_categoria  5 non-null      int64 \n",
      " 1   nome          5 non-null      object\n",
      " 2   descricao     5 non-null      object\n",
      "dtypes: int64(1), object(2)\n",
      "memory usage: 252.0+ bytes\n"
     ]
    }
   ],
   "source": [
    "df_categorias_b.info()"
   ]
  },
  {
   "cell_type": "code",
   "execution_count": 34,
   "id": "eb80717c",
   "metadata": {},
   "outputs": [
    {
     "name": "stdout",
     "output_type": "stream",
     "text": [
      "<class 'pandas.core.frame.DataFrame'>\n",
      "RangeIndex: 150 entries, 0 to 149\n",
      "Data columns (total 7 columns):\n",
      " #   Column           Non-Null Count  Dtype \n",
      "---  ------           --------------  ----- \n",
      " 0   id_cliente       150 non-null    int64 \n",
      " 1   nome_completo    150 non-null    object\n",
      " 2   data_nascimento  150 non-null    object\n",
      " 3   cpf_cnpj         150 non-null    object\n",
      " 4   telefone         150 non-null    int64 \n",
      " 5   email            150 non-null    object\n",
      " 6   data_cadastro    150 non-null    object\n",
      "dtypes: int64(2), object(5)\n",
      "memory usage: 8.3+ KB\n"
     ]
    }
   ],
   "source": [
    "df_clientes_b.info()"
   ]
  },
  {
   "cell_type": "code",
   "execution_count": 35,
   "id": "78ffb4b1",
   "metadata": {},
   "outputs": [
    {
     "name": "stdout",
     "output_type": "stream",
     "text": [
      "<class 'pandas.core.frame.DataFrame'>\n",
      "RangeIndex: 150 entries, 0 to 149\n",
      "Data columns (total 11 columns):\n",
      " #   Column       Non-Null Count  Dtype \n",
      "---  ------       --------------  ----- \n",
      " 0   id_endereco  150 non-null    int64 \n",
      " 1   id_cliente   150 non-null    int64 \n",
      " 2   tipo         150 non-null    object\n",
      " 3   logradouro   139 non-null    object\n",
      " 4   numero       150 non-null    int64 \n",
      " 5   complemento  139 non-null    object\n",
      " 6   bairro       139 non-null    object\n",
      " 7   cidade       139 non-null    object\n",
      " 8   estado       139 non-null    object\n",
      " 9   uf           139 non-null    object\n",
      " 10  regiao       139 non-null    object\n",
      "dtypes: int64(3), object(8)\n",
      "memory usage: 13.0+ KB\n"
     ]
    }
   ],
   "source": [
    "df_enderecos_b.info()"
   ]
  },
  {
   "cell_type": "code",
   "execution_count": 36,
   "id": "16958225",
   "metadata": {},
   "outputs": [
    {
     "name": "stdout",
     "output_type": "stream",
     "text": [
      "<class 'pandas.core.frame.DataFrame'>\n",
      "RangeIndex: 200 entries, 0 to 199\n",
      "Data columns (total 5 columns):\n",
      " #   Column                   Non-Null Count  Dtype  \n",
      "---  ------                   --------------  -----  \n",
      " 0   id_estoque               200 non-null    int64  \n",
      " 1   id_produto               200 non-null    int64  \n",
      " 2   quantidade               200 non-null    float64\n",
      " 3   localizacao              200 non-null    object \n",
      " 4   data_ultima_atualizacao  200 non-null    object \n",
      "dtypes: float64(1), int64(2), object(2)\n",
      "memory usage: 7.9+ KB\n"
     ]
    }
   ],
   "source": [
    "df_estoque_b.info()"
   ]
  },
  {
   "cell_type": "code",
   "execution_count": 37,
   "id": "aa601a30",
   "metadata": {},
   "outputs": [
    {
     "name": "stdout",
     "output_type": "stream",
     "text": [
      "<class 'pandas.core.frame.DataFrame'>\n",
      "RangeIndex: 10 entries, 0 to 9\n",
      "Data columns (total 8 columns):\n",
      " #   Column         Non-Null Count  Dtype  \n",
      "---  ------         --------------  -----  \n",
      " 0   id_fornecedor  10 non-null     int64  \n",
      " 1   razao_social   10 non-null     object \n",
      " 2   nome_fantasia  10 non-null     object \n",
      " 3   cnpj           10 non-null     object \n",
      " 4   telefone       0 non-null      float64\n",
      " 5   email          10 non-null     object \n",
      " 6   endereco       0 non-null      float64\n",
      " 7   data_cadastro  10 non-null     object \n",
      "dtypes: float64(2), int64(1), object(5)\n",
      "memory usage: 772.0+ bytes\n"
     ]
    }
   ],
   "source": [
    "df_fornecedores_b.info()"
   ]
  },
  {
   "cell_type": "code",
   "execution_count": 38,
   "id": "e21e5b84",
   "metadata": {},
   "outputs": [
    {
     "name": "stdout",
     "output_type": "stream",
     "text": [
      "<class 'pandas.core.frame.DataFrame'>\n",
      "RangeIndex: 5 entries, 0 to 4\n",
      "Data columns (total 5 columns):\n",
      " #   Column          Non-Null Count  Dtype \n",
      "---  ------          --------------  ----- \n",
      " 0   id_funcionario  5 non-null      int64 \n",
      " 1   nome_completo   5 non-null      object\n",
      " 2   cpf             5 non-null      object\n",
      " 3   cargo           5 non-null      object\n",
      " 4   data_admissao   5 non-null      object\n",
      "dtypes: int64(1), object(4)\n",
      "memory usage: 332.0+ bytes\n"
     ]
    }
   ],
   "source": [
    "df_funcionarios_b.info()"
   ]
  },
  {
   "cell_type": "code",
   "execution_count": 39,
   "id": "017f07d5",
   "metadata": {},
   "outputs": [
    {
     "name": "stdout",
     "output_type": "stream",
     "text": [
      "<class 'pandas.core.frame.DataFrame'>\n",
      "RangeIndex: 27238 entries, 0 to 27237\n",
      "Data columns (total 5 columns):\n",
      " #   Column                Non-Null Count  Dtype  \n",
      "---  ------                --------------  -----  \n",
      " 0   id_item_pedido        27238 non-null  int64  \n",
      " 1   id_pedido             27238 non-null  int64  \n",
      " 2   id_produto            27238 non-null  int64  \n",
      " 3   quantidade            27238 non-null  float64\n",
      " 4   preco_unitario_venda  27238 non-null  float64\n",
      "dtypes: float64(2), int64(3)\n",
      "memory usage: 1.0 MB\n"
     ]
    }
   ],
   "source": [
    "df_itens_pedidos_b.info()"
   ]
  },
  {
   "cell_type": "code",
   "execution_count": 40,
   "id": "67ee491b",
   "metadata": {},
   "outputs": [
    {
     "name": "stdout",
     "output_type": "stream",
     "text": [
      "<class 'pandas.core.frame.DataFrame'>\n",
      "RangeIndex: 5000 entries, 0 to 4999\n",
      "Data columns (total 6 columns):\n",
      " #   Column            Non-Null Count  Dtype  \n",
      "---  ------            --------------  -----  \n",
      " 0   id_pagamento      5000 non-null   int64  \n",
      " 1   id_pedido         5000 non-null   int64  \n",
      " 2   valor             5000 non-null   float64\n",
      " 3   metodo_pagamento  5000 non-null   object \n",
      " 4   data_pagamento    5000 non-null   object \n",
      " 5   status_pagamento  5000 non-null   object \n",
      "dtypes: float64(1), int64(2), object(3)\n",
      "memory usage: 234.5+ KB\n"
     ]
    }
   ],
   "source": [
    "df_pagamentos_b.info()"
   ]
  },
  {
   "cell_type": "code",
   "execution_count": 41,
   "id": "bd5d98f4",
   "metadata": {},
   "outputs": [
    {
     "name": "stdout",
     "output_type": "stream",
     "text": [
      "<class 'pandas.core.frame.DataFrame'>\n",
      "RangeIndex: 5000 entries, 0 to 4999\n",
      "Data columns (total 7 columns):\n",
      " #   Column               Non-Null Count  Dtype  \n",
      "---  ------               --------------  -----  \n",
      " 0   id_pedido            5000 non-null   int64  \n",
      " 1   id_cliente           5000 non-null   int64  \n",
      " 2   id_funcionario       5000 non-null   int64  \n",
      " 3   id_endereco_entrega  5000 non-null   int64  \n",
      " 4   data_pedido          5000 non-null   object \n",
      " 5   valor_total          5000 non-null   float64\n",
      " 6   status_pedido        5000 non-null   object \n",
      "dtypes: float64(1), int64(4), object(2)\n",
      "memory usage: 273.6+ KB\n"
     ]
    }
   ],
   "source": [
    "df_pedidos_b.info()"
   ]
  },
  {
   "cell_type": "code",
   "execution_count": 42,
   "id": "da4740d2",
   "metadata": {},
   "outputs": [
    {
     "name": "stdout",
     "output_type": "stream",
     "text": [
      "<class 'pandas.core.frame.DataFrame'>\n",
      "RangeIndex: 200 entries, 0 to 199\n",
      "Data columns (total 9 columns):\n",
      " #   Column          Non-Null Count  Dtype  \n",
      "---  ------          --------------  -----  \n",
      " 0   id_produto      200 non-null    int64  \n",
      " 1   id_categoria    200 non-null    int64  \n",
      " 2   nome            200 non-null    object \n",
      " 3   descricao       200 non-null    object \n",
      " 4   sku             200 non-null    object \n",
      " 5   preco_custo     200 non-null    float64\n",
      " 6   preco_venda     200 non-null    float64\n",
      " 7   unidade_medida  200 non-null    object \n",
      " 8   data_cadastro   200 non-null    object \n",
      "dtypes: float64(2), int64(2), object(5)\n",
      "memory usage: 14.2+ KB\n"
     ]
    }
   ],
   "source": [
    "df_produtos_b.info()"
   ]
  },
  {
   "cell_type": "markdown",
   "id": "12ddde77",
   "metadata": {},
   "source": [
    "### Formatação de moeda"
   ]
  },
  {
   "cell_type": "code",
   "execution_count": 43,
   "id": "91dbf0db",
   "metadata": {},
   "outputs": [],
   "source": [
    "def tratar_valores_monetarios(df, colunas):\n",
    "    for col in colunas:\n",
    "        df[col] = df[col].astype(str).str.replace(\",\", \".\", regex=False).astype(float)"
   ]
  },
  {
   "cell_type": "code",
   "execution_count": 44,
   "id": "1810938f",
   "metadata": {},
   "outputs": [],
   "source": [
    "tratar_valores_monetarios(df_itens_pedidos_b, [\"preco_unitario_venda\"])\n",
    "tratar_valores_monetarios(df_pagamentos_b, [\"valor\"])\n",
    "tratar_valores_monetarios(df_produtos_b, [\"preco_custo\", \"preco_venda\"])"
   ]
  },
  {
   "cell_type": "markdown",
   "id": "3eb69a0a",
   "metadata": {},
   "source": [
    "### Tirar decimais"
   ]
  },
  {
   "cell_type": "code",
   "execution_count": 45,
   "id": "5491edde",
   "metadata": {},
   "outputs": [],
   "source": [
    "df_estoque_d = df_estoque_b.copy()\n",
    "df_estoque_d['quantidade'] = df_estoque_d['quantidade'].astype('Int64')"
   ]
  },
  {
   "cell_type": "code",
   "execution_count": 46,
   "id": "66827c48",
   "metadata": {},
   "outputs": [],
   "source": [
    "df_itens_pedidos_d = df_itens_pedidos_b.copy()\n",
    "df_itens_pedidos_d['quantidade'] = df_itens_pedidos_d['quantidade'].astype('Int64')"
   ]
  },
  {
   "cell_type": "markdown",
   "id": "2e8a1e98",
   "metadata": {},
   "source": [
    "### Validação de CPF"
   ]
  },
  {
   "cell_type": "code",
   "execution_count": 47,
   "id": "54aa1684",
   "metadata": {},
   "outputs": [],
   "source": [
    "def validar_documentos(df, coluna_doc='cpf_cnpj'):\n",
    "    # Instanciando validadores\n",
    "    validador_cpf = CPF()\n",
    "    validador_cnpj = CNPJ()\n",
    "\n",
    "    # Limpa caracteres não numéricos\n",
    "    df['documento_limpo'] = df[coluna_doc].astype(str).str.replace(r'\\D', '', regex=True)\n",
    "\n",
    "    # Classifica tipo de documento\n",
    "    def classificar(doc):\n",
    "        if pd.isna(doc) or doc == '':\n",
    "            return 'vazio'\n",
    "        elif len(doc) == 11:\n",
    "            return 'cpf'\n",
    "        elif len(doc) == 14:\n",
    "            return 'cnpj'\n",
    "        else:\n",
    "            return 'invalido'\n",
    "\n",
    "    df_clientes_b['tipo_documento'] = df_clientes_b['documento_limpo'].apply(classificar)\n",
    "    \n",
    "    # Cria colunas separadas para cpf e cnpj\n",
    "    df_clientes_b['cpf'] = df_clientes_b['documento_limpo'].where(df_clientes_b['tipo_documento'] == 'cpf')\n",
    "    df_clientes_b['cnpj'] = df_clientes_b['documento_limpo'].where(df_clientes_b['tipo_documento'] == 'cnpj')\n",
    "\n",
    "    # Validação\n",
    "    df_clientes_b['cpf_validado'] = df_clientes_b['cpf'].apply(lambda x: validador_cpf.validate(x) if pd.notnull(x) else False)\n",
    "    df_clientes_b['cnpj_validado'] = df_clientes_b['cnpj'].apply(lambda x: validador_cnpj.validate(x) if pd.notnull(x) else False)\n",
    "\n",
    "    return df"
   ]
  },
  {
   "cell_type": "code",
   "execution_count": 48,
   "id": "613bff98",
   "metadata": {},
   "outputs": [],
   "source": [
    "df_clientes_cpf_cnpj = validar_documentos(df_clientes_b, coluna_doc='cpf_cnpj')\n"
   ]
  },
  {
   "cell_type": "code",
   "execution_count": 49,
   "id": "9905caab",
   "metadata": {},
   "outputs": [
    {
     "name": "stdout",
     "output_type": "stream",
     "text": [
      "<class 'pandas.core.frame.DataFrame'>\n",
      "RangeIndex: 150 entries, 0 to 149\n",
      "Data columns (total 13 columns):\n",
      " #   Column           Non-Null Count  Dtype \n",
      "---  ------           --------------  ----- \n",
      " 0   id_cliente       150 non-null    int64 \n",
      " 1   nome_completo    150 non-null    object\n",
      " 2   data_nascimento  150 non-null    object\n",
      " 3   cpf_cnpj         150 non-null    object\n",
      " 4   telefone         150 non-null    int64 \n",
      " 5   email            150 non-null    object\n",
      " 6   data_cadastro    150 non-null    object\n",
      " 7   documento_limpo  150 non-null    object\n",
      " 8   tipo_documento   150 non-null    object\n",
      " 9   cpf              150 non-null    object\n",
      " 10  cnpj             0 non-null      object\n",
      " 11  cpf_validado     150 non-null    bool  \n",
      " 12  cnpj_validado    150 non-null    bool  \n",
      "dtypes: bool(2), int64(2), object(9)\n",
      "memory usage: 13.3+ KB\n"
     ]
    }
   ],
   "source": [
    "df_clientes_cpf_cnpj.info()"
   ]
  },
  {
   "cell_type": "code",
   "execution_count": 50,
   "id": "59edc4ac",
   "metadata": {},
   "outputs": [
    {
     "data": {
      "text/html": [
       "<div>\n",
       "<style scoped>\n",
       "    .dataframe tbody tr th:only-of-type {\n",
       "        vertical-align: middle;\n",
       "    }\n",
       "\n",
       "    .dataframe tbody tr th {\n",
       "        vertical-align: top;\n",
       "    }\n",
       "\n",
       "    .dataframe thead th {\n",
       "        text-align: right;\n",
       "    }\n",
       "</style>\n",
       "<table border=\"1\" class=\"dataframe\">\n",
       "  <thead>\n",
       "    <tr style=\"text-align: right;\">\n",
       "      <th></th>\n",
       "      <th>id_cliente</th>\n",
       "      <th>nome_completo</th>\n",
       "      <th>data_nascimento</th>\n",
       "      <th>telefone</th>\n",
       "      <th>email</th>\n",
       "      <th>data_cadastro</th>\n",
       "      <th>cpf</th>\n",
       "    </tr>\n",
       "  </thead>\n",
       "  <tbody>\n",
       "    <tr>\n",
       "      <th>0</th>\n",
       "      <td>1</td>\n",
       "      <td>Helena Ribeiro da Silva</td>\n",
       "      <td>1988-07-15</td>\n",
       "      <td>11900000001</td>\n",
       "      <td>helena.silva@gmail.com</td>\n",
       "      <td>2025-07-24 17:49:55</td>\n",
       "      <td>84719250837</td>\n",
       "    </tr>\n",
       "  </tbody>\n",
       "</table>\n",
       "</div>"
      ],
      "text/plain": [
       "   id_cliente            nome_completo data_nascimento     telefone  \\\n",
       "0           1  Helena Ribeiro da Silva      1988-07-15  11900000001   \n",
       "\n",
       "                    email        data_cadastro          cpf  \n",
       "0  helena.silva@gmail.com  2025-07-24 17:49:55  84719250837  "
      ]
     },
     "execution_count": 50,
     "metadata": {},
     "output_type": "execute_result"
    }
   ],
   "source": [
    "df_clientes_drop = df_clientes_cpf_cnpj.drop(['cpf_cnpj','documento_limpo','tipo_documento','cnpj','cpf_validado','cnpj_validado'], axis=1)\n",
    "df_clientes_drop.head(1)"
   ]
  },
  {
   "cell_type": "code",
   "execution_count": 51,
   "id": "570b029e",
   "metadata": {},
   "outputs": [
    {
     "data": {
      "text/html": [
       "<div>\n",
       "<style scoped>\n",
       "    .dataframe tbody tr th:only-of-type {\n",
       "        vertical-align: middle;\n",
       "    }\n",
       "\n",
       "    .dataframe tbody tr th {\n",
       "        vertical-align: top;\n",
       "    }\n",
       "\n",
       "    .dataframe thead th {\n",
       "        text-align: right;\n",
       "    }\n",
       "</style>\n",
       "<table border=\"1\" class=\"dataframe\">\n",
       "  <thead>\n",
       "    <tr style=\"text-align: right;\">\n",
       "      <th></th>\n",
       "      <th>id_cliente</th>\n",
       "      <th>nome_completo</th>\n",
       "      <th>data_nascimento</th>\n",
       "      <th>cpf</th>\n",
       "      <th>telefone</th>\n",
       "      <th>email</th>\n",
       "      <th>data_cadastro</th>\n",
       "    </tr>\n",
       "  </thead>\n",
       "  <tbody>\n",
       "    <tr>\n",
       "      <th>0</th>\n",
       "      <td>1</td>\n",
       "      <td>Helena Ribeiro da Silva</td>\n",
       "      <td>1988-07-15</td>\n",
       "      <td>84719250837</td>\n",
       "      <td>11900000001</td>\n",
       "      <td>helena.silva@gmail.com</td>\n",
       "      <td>2025-07-24 17:49:55</td>\n",
       "    </tr>\n",
       "  </tbody>\n",
       "</table>\n",
       "</div>"
      ],
      "text/plain": [
       "   id_cliente            nome_completo data_nascimento          cpf  \\\n",
       "0           1  Helena Ribeiro da Silva      1988-07-15  84719250837   \n",
       "\n",
       "      telefone                   email        data_cadastro  \n",
       "0  11900000001  helena.silva@gmail.com  2025-07-24 17:49:55  "
      ]
     },
     "execution_count": 51,
     "metadata": {},
     "output_type": "execute_result"
    }
   ],
   "source": [
    "ordem_colunas_clientes = ['id_cliente','nome_completo','data_nascimento','cpf','telefone','email','data_cadastro']\n",
    "df_clientes_tratado = df_clientes_drop.reindex(columns=ordem_colunas_clientes)\n",
    "df_clientes_tratado.head(1)"
   ]
  },
  {
   "cell_type": "markdown",
   "id": "c6dbca9c",
   "metadata": {},
   "source": [
    "### Separando data e hora"
   ]
  },
  {
   "cell_type": "code",
   "execution_count": 52,
   "id": "8ec2a932",
   "metadata": {},
   "outputs": [],
   "source": [
    "def data_hora(df, coluna_df):\n",
    "    df = df.copy()\n",
    "\n",
    "    # Converter para datetime\n",
    "    df[coluna_df] = pd.to_datetime(df[coluna_df], errors='coerce')\n",
    "\n",
    "    # Separar data e hora\n",
    "    df[f'{coluna_df}_data'] = df[coluna_df].dt.date.astype(str)\n",
    "    df[f'{coluna_df}_hora'] = df[coluna_df].dt.time.astype(str)\n",
    "\n",
    "    return df"
   ]
  },
  {
   "cell_type": "code",
   "execution_count": 53,
   "id": "a952b1b4",
   "metadata": {},
   "outputs": [],
   "source": [
    "df_clientes_h = data_hora(df_clientes_tratado, 'data_cadastro')\n",
    "df_estoque_h = data_hora(df_estoque_d, 'data_ultima_atualizacao')\n",
    "df_fornecedores_h = data_hora(df_fornecedores_b, 'data_cadastro')\n",
    "df_pagamentos_h = data_hora(df_pagamentos_b, 'data_pagamento')\n",
    "df_pedidos_h = data_hora(df_pedidos_b, 'data_pedido')"
   ]
  },
  {
   "cell_type": "code",
   "execution_count": 54,
   "id": "dda0675f",
   "metadata": {},
   "outputs": [],
   "source": [
    "df_clientes_drop = df_clientes_h.drop(['data_cadastro'], axis=1)\n",
    "df_estoque_drop = df_estoque_h.drop(['data_ultima_atualizacao'], axis=1)\n",
    "df_fornecedores_drop = df_fornecedores_h.drop(['data_cadastro'], axis=1)\n",
    "df_pagamentos_drop = df_pagamentos_h.drop(['data_pagamento'], axis=1)\n",
    "df_pedidos_drop = df_pedidos_h.drop(['data_pedido'], axis=1)"
   ]
  },
  {
   "cell_type": "code",
   "execution_count": 55,
   "id": "6265d31d",
   "metadata": {},
   "outputs": [],
   "source": [
    "df_clientes_s = df_clientes_drop.rename(columns={'data_cadastro_data':'data','data_cadastro_hora':'hora'})\n",
    "df_estoque_s = df_estoque_drop.rename(columns={'data_ultima_atualizacao_data':'data','data_ultima_atualizacao_hora':'hora'})\n",
    "df_fornecedores_s = df_fornecedores_drop.rename(columns={'data_cadastro_data':'data','data_cadastro_hora':'hora'})\n",
    "df_pagamentos_s = df_pagamentos_drop.rename(columns={'data_pagamento_data':'data','data_pagamento_hora':'hora'})\n",
    "df_pedidos_s = df_pedidos_drop.rename(columns={'data_pedido_data':'data','data_pedido_hora':'hora'})"
   ]
  },
  {
   "cell_type": "markdown",
   "id": "d1366922",
   "metadata": {},
   "source": [
    "### Remoção de caracteres especiais"
   ]
  },
  {
   "cell_type": "code",
   "execution_count": 56,
   "id": "d3a6e7b8",
   "metadata": {},
   "outputs": [],
   "source": [
    "def limpar_df(df):\n",
    "    # Limpar colunas\n",
    "    df.columns = (\n",
    "        df.columns\n",
    "        .str.lower()\n",
    "        .str.strip()\n",
    "        .str.normalize(\"NFKD\")\n",
    "        .str.encode(\"ascii\", errors=\"ignore\").str.decode(\"utf-8\")\n",
    "        .str.replace(r\"[^a-z0-9]+\", \"_\", regex=True)\n",
    "        .str.strip(\"_\")\n",
    "    )\n",
    "# Remover acentos dos valores textuais (apenas colunas object/str)\n",
    "    for col in df.select_dtypes(include=\"object\").columns:\n",
    "        df[col] = df[col].apply(\n",
    "            lambda x: unicodedata.normalize(\"NFKD\", x).encode(\"ascii\", \"ignore\").decode(\"utf-8\")\n",
    "            if isinstance(x, str) else x\n",
    "        )\n",
    "    \n",
    "    return df"
   ]
  },
  {
   "cell_type": "code",
   "execution_count": 57,
   "id": "3cee52dd",
   "metadata": {},
   "outputs": [],
   "source": [
    "# ✅ Dicionário com todos os seus DataFrames\n",
    "dfs = {\n",
    "    \"df_categorias_b\": df_categorias_b,\n",
    "    \"df_clientes_s\": df_clientes_s,\n",
    "    \"df_enderecos_b\": df_enderecos_b,\n",
    "    \"df_estoque_s\": df_estoque_s,\n",
    "    \"df_fornecedores_s\": df_fornecedores_s,\n",
    "    \"df_funcionarios_b\": df_funcionarios_b,\n",
    "    \"df_itens_pedidos_d\": df_itens_pedidos_d,\n",
    "    \"df_pagamentos_s\": df_pagamentos_s,\n",
    "    \"df_pedidos_s\": df_pedidos_s,\n",
    "    \"df_produtos_b\": df_produtos_b,\n",
    "}"
   ]
  },
  {
   "cell_type": "markdown",
   "id": "b74c1932",
   "metadata": {},
   "source": [
    "# Salvando dataframes em parquet"
   ]
  },
  {
   "cell_type": "code",
   "execution_count": 58,
   "id": "0d1e7ec4",
   "metadata": {},
   "outputs": [
    {
     "name": "stdout",
     "output_type": "stream",
     "text": [
      "✅ Salvo: idv_store_categorias_s.parquet\n",
      "✅ Salvo: idv_store_clientes_s.parquet\n",
      "✅ Salvo: idv_store_enderecos_s.parquet\n",
      "✅ Salvo: idv_store_estoque_s.parquet\n",
      "✅ Salvo: idv_store_fornecedores_s.parquet\n",
      "✅ Salvo: idv_store_funcionarios_s.parquet\n",
      "✅ Salvo: idv_store_itens_pedidos_d.parquet\n",
      "✅ Salvo: idv_store_pagamentos_s.parquet\n",
      "✅ Salvo: idv_store_pedidos_s.parquet\n",
      "✅ Salvo: idv_store_produtos_s.parquet\n"
     ]
    }
   ],
   "source": [
    "# ✅ Pasta de saída\n",
    "output_dir = \"data_silver/\"\n",
    "os.makedirs(output_dir, exist_ok=True)\n",
    "\n",
    "# ✅ Loop para limpar e salvar cada DataFrame\n",
    "for nome, df in dfs.items():\n",
    "    if isinstance(df, pd.DataFrame):\n",
    "        try:\n",
    "            df_limpo = limpar_df(df.copy())\n",
    "\n",
    "            # Nome do arquivo sem \"df_\" e sem acentos\n",
    "            nome_arquivo = unicodedata.normalize(\"NFKD\", nome.replace(\"df_\", \"\").replace(\"_b\", \"_s\")).encode(\"ascii\", \"ignore\").decode(\"utf-8\")\n",
    "            caminho_saida = os.path.join(output_dir, f\"idv_store_{nome_arquivo}.parquet\")\n",
    "\n",
    "            df_limpo.to_parquet(caminho_saida, index=False)\n",
    "            print(f\"✅ Salvo: idv_store_{nome_arquivo}.parquet\")\n",
    "\n",
    "        except Exception as e:\n",
    "            print(f\"❌ Erro ao processar {nome}: {e}\")\n",
    "    else:\n",
    "        print(f\"⚠️ Ignorado (não é DataFrame): {nome}\")"
   ]
  }
 ],
 "metadata": {
  "kernelspec": {
   "display_name": "Python 3",
   "language": "python",
   "name": "python3"
  },
  "language_info": {
   "codemirror_mode": {
    "name": "ipython",
    "version": 3
   },
   "file_extension": ".py",
   "mimetype": "text/x-python",
   "name": "python",
   "nbconvert_exporter": "python",
   "pygments_lexer": "ipython3",
   "version": "3.11.9"
  }
 },
 "nbformat": 4,
 "nbformat_minor": 5
}

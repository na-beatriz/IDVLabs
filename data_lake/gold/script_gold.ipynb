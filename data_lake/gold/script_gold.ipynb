{
 "cells": [
  {
   "cell_type": "code",
   "execution_count": 91,
   "id": "191293d2",
   "metadata": {},
   "outputs": [],
   "source": [
    "import pandas as pd"
   ]
  },
  {
   "cell_type": "markdown",
   "id": "9537a05c",
   "metadata": {},
   "source": [
    "# Puxando tabelas  da camada silver"
   ]
  },
  {
   "cell_type": "code",
   "execution_count": 92,
   "id": "5d0d75c7",
   "metadata": {},
   "outputs": [],
   "source": [
    "df_categorias_s = pd.read_parquet('../silver/data_silver/idv_store_categorias_s.parquet')\n",
    "df_clientes_s = pd.read_parquet('../silver/data_silver/idv_store_clientes_s.parquet')\n",
    "df_enderecos_s = pd.read_parquet('../silver/data_silver/idv_store_enderecos_s.parquet')\n",
    "df_estoque_s = pd.read_parquet('../silver/data_silver/idv_store_estoque_s.parquet')\n",
    "df_fornecedores_s = pd.read_parquet('../silver/data_silver/idv_store_fornecedores_s.parquet')\n",
    "df_funcionarios_s = pd.read_parquet('../silver/data_silver/idv_store_funcionarios_s.parquet')\n",
    "df_itens_pedidos_s = pd.read_parquet('../silver/data_silver/idv_store_itens_pedidos_s.parquet')\n",
    "df_pagamentos_s = pd.read_parquet('../silver/data_silver/idv_store_pagamentos_s.parquet')\n",
    "df_pedidos_s = pd.read_parquet('../silver/data_silver/idv_store_pedidos_s.parquet')\n",
    "df_produtos_s = pd.read_parquet('../silver/data_silver/idv_store_produtos_s.parquet')"
   ]
  },
  {
   "cell_type": "markdown",
   "id": "ef2d3627",
   "metadata": {},
   "source": [
    "# Modelo de Vendas (Fato Vendas)"
   ]
  },
  {
   "cell_type": "code",
   "execution_count": 93,
   "id": "a46d8ae7",
   "metadata": {},
   "outputs": [],
   "source": [
    "#Renomeie colunas ambíguas \n",
    "df_pedidos_s.rename(columns={'data': 'data_pedido', 'hora': 'hora_pedido'}, inplace=True)\n",
    "df_clientes_s.rename(columns={'nome_completo': 'nome_cliente', 'cpf': 'cpf_cliente', 'data': 'data_cadastro_cliente', 'hora': 'hora_cadastro_cliente'}, inplace=True)\n",
    "df_produtos_s.rename(columns={'nome': 'nome_produto', 'descricao': 'descricao_produto', 'data_cadastro': 'data_cadastro_produto'}, inplace=True)\n",
    "df_categorias_s.rename(columns={'nome': 'nome_categoria', 'descricao': 'descricao_categoria'}, inplace=True)\n",
    "df_funcionarios_s.rename(columns={'nome_completo': 'nome_funcionario', 'cpf': 'cpf_funcionario'}, inplace=True)\n",
    "df_pagamentos_s.rename(columns={'data': 'data_pagamento', 'hora': 'hora_pagamento', 'valor': 'valor_pago'}, inplace=True)"
   ]
  },
  {
   "cell_type": "code",
   "execution_count": 94,
   "id": "955c10a7",
   "metadata": {},
   "outputs": [],
   "source": [
    "# Merge\n",
    "df_vendas_base = pd.merge(df_itens_pedidos_s, df_pedidos_s, on='id_pedido')\n",
    "df_vendas_com_cliente = pd.merge(df_vendas_base, df_clientes_s, on='id_cliente')\n",
    "df_vendas_com_produto = pd.merge(df_vendas_com_cliente, df_produtos_s, on='id_produto')\n",
    "df_vendas_com_categoria = pd.merge(df_vendas_com_produto, df_categorias_s, on='id_categoria')\n",
    "df_vendas_com_endereco = pd.merge(df_vendas_com_categoria, df_enderecos_s, on='id_cliente')\n",
    "df_vendas_com_funcionario = pd.merge(df_vendas_com_endereco, df_funcionarios_s,on='id_funcionario')\n",
    "df_fato_vendas_bruto = pd.merge(df_vendas_com_funcionario, df_pagamentos_s, on='id_pedido')"
   ]
  },
  {
   "cell_type": "code",
   "execution_count": 95,
   "id": "2eace776",
   "metadata": {},
   "outputs": [],
   "source": [
    "# Cópia do DataFrame original\n",
    "df_fato_vendas_agregada = df_fato_vendas_bruto.copy()\n",
    "\n",
    "# Conversão para tipos numéricos no DataFrame correto\n",
    "colunas_numericas = [\"preco_unitario_venda\", \"preco_custo\", \"quantidade\", \"valor_pago\"]\n",
    "\n",
    "for col in colunas_numericas:\n",
    "    df_fato_vendas_agregada[col] = pd.to_numeric(df_fato_vendas_agregada[col], errors=\"coerce\")\n",
    "\n",
    "# Agregações\n",
    "df_fato_vendas_agregada[\"lucro_bruto_item\"] = (\n",
    "    (df_fato_vendas_agregada[\"preco_unitario_venda\"] - df_fato_vendas_agregada[\"preco_custo\"])\n",
    "    * df_fato_vendas_agregada[\"quantidade\"]\n",
    ").round(2)\n",
    "\n",
    "df_fato_vendas_agregada[\"margem_lucro_percentual\"] = df_fato_vendas_agregada.apply(\n",
    "    lambda row: round((row[\"lucro_bruto_item\"] / row[\"valor_pago\"]) * 100, 2)\n",
    "    if row[\"valor_pago\"] != 0 else 0, axis=1\n",
    ")"
   ]
  },
  {
   "cell_type": "code",
   "execution_count": 96,
   "id": "714e0647",
   "metadata": {},
   "outputs": [],
   "source": [
    "#Selecione e reordene as colunas desejadas.\n",
    "colunas_finais = [\n",
    "    'id_item_pedido',\n",
    "    'id_pedido',\n",
    "    'id_produto',\n",
    "    'id_cliente',\n",
    "    'id_funcionario',\n",
    "    'quantidade',\n",
    "    'preco_unitario_venda',\n",
    "    'valor_total',\n",
    "    'preco_custo',\n",
    "    'preco_venda',\n",
    "    'lucro_bruto_item',\n",
    "    'margem_lucro_percentual',\n",
    "    'metodo_pagamento',\n",
    "    'nome_produto',\n",
    "    'nome_categoria',\n",
    "    'cidade',\n",
    "    'uf',\n",
    "    'regiao',\n",
    "    'status_pedido',\n",
    "    'data_pedido',\n",
    "]\n",
    "\n",
    "df_fato_vendas_final = df_fato_vendas_agregada[colunas_finais]"
   ]
  },
  {
   "cell_type": "markdown",
   "id": "5ad26a55",
   "metadata": {},
   "source": [
    "# Salvando dataframes em parquet"
   ]
  },
  {
   "cell_type": "code",
   "execution_count": 97,
   "id": "0ee8c279",
   "metadata": {},
   "outputs": [],
   "source": [
    "df_fato_vendas_final.to_parquet('../gold/data_gold/idv_store_fato_venda_final.parquet', index=False)"
   ]
  }
 ],
 "metadata": {
  "kernelspec": {
   "display_name": "Python 3",
   "language": "python",
   "name": "python3"
  },
  "language_info": {
   "codemirror_mode": {
    "name": "ipython",
    "version": 3
   },
   "file_extension": ".py",
   "mimetype": "text/x-python",
   "name": "python",
   "nbconvert_exporter": "python",
   "pygments_lexer": "ipython3",
   "version": "3.11.9"
  }
 },
 "nbformat": 4,
 "nbformat_minor": 5
}
